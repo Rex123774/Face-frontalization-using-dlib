{
  "nbformat": 4,
  "nbformat_minor": 0,
  "metadata": {
    "colab": {
      "provenance": []
    },
    "kernelspec": {
      "name": "python3",
      "display_name": "Python 3"
    },
    "language_info": {
      "name": "python"
    }
  },
  "cells": [
    {
      "cell_type": "markdown",
      "source": [
        "Import libraries"
      ],
      "metadata": {
        "id": "Z92BvuBtD86g"
      }
    },
    {
      "cell_type": "code",
      "execution_count": 1,
      "metadata": {
        "colab": {
          "base_uri": "https://localhost:8080/"
        },
        "id": "GBDMyNCRmf7N",
        "outputId": "155116da-20ff-42e2-be63-9045492efd7e"
      },
      "outputs": [
        {
          "output_type": "stream",
          "name": "stdout",
          "text": [
            "Cloning into 'facefrontalisation'...\n",
            "remote: Enumerating objects: 19, done.\u001b[K\n",
            "remote: Total 19 (delta 0), reused 0 (delta 0), pack-reused 19\u001b[K\n",
            "Unpacking objects: 100% (19/19), 2.61 MiB | 3.67 MiB/s, done.\n"
          ]
        }
      ],
      "source": [
        "!git clone https://github.com/ChrisYang/facefrontalisation.git"
      ]
    },
    {
      "cell_type": "code",
      "source": [
        "!wget   http://dlib.net/files/shape_predictor_68_face_landmarks.dat.bz2\n",
        "!bunzip2 /content/shape_predictor_68_face_landmarks.dat.bz2\n"
      ],
      "metadata": {
        "colab": {
          "base_uri": "https://localhost:8080/"
        },
        "id": "PUvsURO8nEv4",
        "outputId": "f8e96ff8-7f3e-4b34-b6cd-507de07adc56"
      },
      "execution_count": 2,
      "outputs": [
        {
          "output_type": "stream",
          "name": "stdout",
          "text": [
            "--2023-06-04 09:53:15--  http://dlib.net/files/shape_predictor_68_face_landmarks.dat.bz2\n",
            "Resolving dlib.net (dlib.net)... 107.180.26.78\n",
            "Connecting to dlib.net (dlib.net)|107.180.26.78|:80... connected.\n",
            "HTTP request sent, awaiting response... 200 OK\n",
            "Length: 64040097 (61M)\n",
            "Saving to: ‘shape_predictor_68_face_landmarks.dat.bz2’\n",
            "\n",
            "shape_predictor_68_ 100%[===================>]  61.07M  14.7MB/s    in 6.6s    \n",
            "\n",
            "2023-06-04 09:53:22 (9.28 MB/s) - ‘shape_predictor_68_face_landmarks.dat.bz2’ saved [64040097/64040097]\n",
            "\n"
          ]
        }
      ]
    },
    {
      "cell_type": "code",
      "source": [
        "!pip install --upgrade dlib\n"
      ],
      "metadata": {
        "colab": {
          "base_uri": "https://localhost:8080/"
        },
        "id": "-P7Mg-Nbri47",
        "outputId": "4e914632-65ef-48be-ee39-d266f25621ef"
      },
      "execution_count": 3,
      "outputs": [
        {
          "output_type": "stream",
          "name": "stdout",
          "text": [
            "Looking in indexes: https://pypi.org/simple, https://us-python.pkg.dev/colab-wheels/public/simple/\n",
            "Requirement already satisfied: dlib in /usr/local/lib/python3.10/dist-packages (19.24.1)\n",
            "Collecting dlib\n",
            "  Downloading dlib-19.24.2.tar.gz (11.8 MB)\n",
            "\u001b[2K     \u001b[90m━━━━━━━━━━━━━━━━━━━━━━━━━━━━━━━━━━━━━━━━\u001b[0m \u001b[32m11.8/11.8 MB\u001b[0m \u001b[31m67.4 MB/s\u001b[0m eta \u001b[36m0:00:00\u001b[0m\n",
            "\u001b[?25h  Installing build dependencies ... \u001b[?25l\u001b[?25hdone\n",
            "  Getting requirements to build wheel ... \u001b[?25l\u001b[?25hdone\n",
            "  Preparing metadata (pyproject.toml) ... \u001b[?25l\u001b[?25hdone\n",
            "Building wheels for collected packages: dlib\n",
            "  Building wheel for dlib (pyproject.toml) ... \u001b[?25l\u001b[?25hdone\n",
            "  Created wheel for dlib: filename=dlib-19.24.2-cp310-cp310-linux_x86_64.whl size=4164654 sha256=b2f601e89e4d5756f3864bb4e12ec827803a10547f71ad90ce8ca3906073c9d5\n",
            "  Stored in directory: /root/.cache/pip/wheels/9b/e2/80/888fdc098db86b463ff0c83ae5e5ca151889e901bc1e9a3a11\n",
            "Successfully built dlib\n",
            "Installing collected packages: dlib\n",
            "  Attempting uninstall: dlib\n",
            "    Found existing installation: dlib 19.24.1\n",
            "    Uninstalling dlib-19.24.1:\n",
            "      Successfully uninstalled dlib-19.24.1\n",
            "Successfully installed dlib-19.24.2\n"
          ]
        }
      ]
    },
    {
      "cell_type": "markdown",
      "source": [
        "If the image doesnt fit it into 8gb rgb then you can convert it into 8gb rgb"
      ],
      "metadata": {
        "id": "qZK0R-roEH0e"
      }
    },
    {
      "cell_type": "code",
      "source": [
        "from PIL import Image\n",
        "\n",
        "def convert_to_8bit_rgb(image_path):\n",
        "    try:\n",
        "        img = Image.open(image_path)\n",
        "        img = img.convert(\"RGB\")\n",
        "        img = img.quantize(colors=256)\n",
        "        img = img.convert(\"L\")  # Convert to 8-bit grayscale\n",
        "        img = img.convert(\"RGB\")  # Convert back to RGB\n",
        "        img.save(\"/content/facefrontalisation/test2.jpg\")\n",
        "        print(\"Image converted to 8-bit RGB format.\")\n",
        "    except IOError:\n",
        "        print(\"Unable to open or convert the image.\")\n",
        "\n",
        "# Provide the path to your image\n",
        "image_path = \"/content/facefrontalisation/202_01_01_050_06_cropped_test(1).png\"\n",
        "\n",
        "# Convert the image to 8-bit RGB\n",
        "convert_to_8bit_rgb(image_path)\n"
      ],
      "metadata": {
        "colab": {
          "base_uri": "https://localhost:8080/"
        },
        "id": "a_ETm6io-_e-",
        "outputId": "c76fe7e7-5c64-4abb-a3db-e1e4217da654"
      },
      "execution_count": 15,
      "outputs": [
        {
          "output_type": "stream",
          "name": "stdout",
          "text": [
            "Image converted to 8-bit RGB format.\n"
          ]
        }
      ]
    },
    {
      "cell_type": "code",
      "source": [
        "'''\n",
        "This is the python code as a re-implementation of the matlab code from:\n",
        "http://www.openu.ac.il/home/hassner/projects/frontalize/\n",
        "Tal Hassner, Shai Harel*, Eran Paz* and Roee Enbar, Effective Face Frontalization in Unconstrained Images, IEEE Conf. on Computer Vision and Pattern Recognition (CVPR), Boston, June 2015\n",
        "The algorithm credit belongs to them. \n",
        "I implement it as I dislike reading matlab code--i started using matlab when it was around 1GB but look at it now.....\n",
        "In order to make the code run you need: \n",
        "1. compile the dlib python code: http://dlib.net/\n",
        "2. download the shape_predictor_68_face_landmarks.dat file from:\n",
        "http://sourceforge.net/projects/dclib/files/dlib/v18.10/shape_predictor_68_face_landmarks.dat.bz2\n",
        "3. install python dependencies \n",
        "Contact me if you have problem using this code: \n",
        "heng.yang@cl.cam.ac.uk \n",
        "'''\n",
        "\n",
        "import scipy.misc as sm\n",
        "import numpy as np \n",
        "import matplotlib.pyplot as plt\n",
        "import cv2\n",
        "import dlib\n",
        "import pickle as pkl\n",
        "import time \n",
        "from scipy import ndimage\n",
        "import copy \n",
        "\n",
        "\n",
        "def plot3d(p3ds):\n",
        "    import matplotlib.pyplot as plt\n",
        "    from mpl_toolkits.mplot3d import Axes3D\n",
        "    fig = plt.figure()\n",
        "    ax = fig.add_subplot(111, projection='3d')\n",
        "    ax.scatter(p3ds[:,0],p3ds[:,1], p3ds[:,2])\n",
        "    plt.show()\n",
        "\n",
        "\n",
        "class frontalizer():\n",
        "    def __init__(self,refname):\n",
        "        # initialise the model with the 3d reference face \n",
        "        # and the camera intrinsic parameters \n",
        "        # they are stored in the ref3d.pkl  \n",
        "        with open(refname , 'rb') as f:\n",
        "            ref = pkl.load(f , encoding='latin')\n",
        "            self.refU  = ref['refU']\n",
        "            self.A = ref['outA']\n",
        "            self.refxy = ref['ref_XY']\n",
        "            self.p3d = ref['p3d']\n",
        "            self.refimg = ref['refimg']\n",
        "    def get_headpose(self,p2d):\n",
        "        assert(len(p2d) == len(self.p3d))\n",
        "        p3_ = np.reshape(self.p3d,(-1,3,1)).astype(np.float)\n",
        "        p2_ = np.reshape(p2d,(-1,2,1)).astype(np.float)\n",
        "        distCoeffs = np.zeros((5,1))\n",
        "        succ,rvec,tvec = cv2.solvePnP(p3_,p2_, self.A, distCoeffs)\n",
        "        if not succ:\n",
        "            print('There is something wrong, please check.')\n",
        "            return None\n",
        "        else:\n",
        "            matx = cv2.Rodrigues(rvec)\n",
        "            ProjM_ = self.A.dot(np.insert(matx[0],3,tvec.T,axis=1))\n",
        "            return rvec,tvec,ProjM_\n",
        "    def frontalization(self,img_,facebb,p2d_):\n",
        "        #we rescale the face region (twice as big as the detected face) before applying frontalisation\n",
        "        #the rescaled size is WD x HT \n",
        "        WD = 250 \n",
        "        HT = 250 \n",
        "        ACC_CONST = 800\n",
        "        facebb = [facebb.left(), facebb.top(), facebb.width(), facebb.height()]\n",
        "        w = facebb[2]\n",
        "        h = facebb[3]\n",
        "        fb_ = np.clip([[facebb[0] - w, facebb[1] - h],[facebb[0] + 2 * w, facebb[1] + 2 * h]], [0,0], [img_.shape[1], img_.shape[0]])  \n",
        "        img = img_[fb_[0][1]:fb_[1][1], fb_[0][0]:fb_[1][0],:]\n",
        "        p2d = copy.deepcopy(p2d_) \n",
        "        p2d[:,0] = (p2d_[:,0] - fb_[0][0]) * float(WD) / float(img.shape[1])\n",
        "        p2d[:,1] = (p2d_[:,1] - fb_[0][1])  * float(HT) / float(img.shape[0])\n",
        "        img = cv2.resize(img, (WD,HT)) \n",
        "        #finished rescaling\n",
        "       \n",
        "        tem3d = np.reshape(self.refU,(-1,3),order='F')\n",
        "        bgids = tem3d[:,1] < 0# excluding background 3d points \n",
        "        # plot3d(tem3d)\n",
        "        # print tem3d.shape \n",
        "        ref3dface = np.insert(tem3d, 3, np.ones(len(tem3d)),axis=1).T\n",
        "        ProjM = self.get_headpose(p2d)[2]\n",
        "        proj3d = ProjM.dot(ref3dface)\n",
        "        proj3d[0] /= proj3d[2] \n",
        "        proj3d[1] /= proj3d[2]\n",
        "        proj2dtmp = proj3d[0:2]\n",
        "        #The 3D reference is projected to the 2D region by the estimated pose \n",
        "        #The check the projection lies in the image or not \n",
        "        vlids = np.logical_and(np.logical_and(proj2dtmp[0] > 0, proj2dtmp[1] > 0), \n",
        "                               np.logical_and(proj2dtmp[0] < img.shape[1] - 1,  proj2dtmp[1] < img.shape[0] - 1))\n",
        "        vlids = np.logical_and(vlids, bgids)\n",
        "        proj2d_valid = proj2dtmp[:,vlids]\n",
        "\n",
        "        sp_  = self.refU.shape[0:2]\n",
        "        synth_front = np.zeros(sp_,np.float)\n",
        "        inds = np.ravel_multi_index(np.round(proj2d_valid).astype(int),(img.shape[1], img.shape[0]),order = 'F')\n",
        "        unqeles, unqinds, inverids, conts  = np.unique(inds, return_index=True, return_inverse=True, return_counts=True)\n",
        "        tmp_ = synth_front.flatten()\n",
        "        tmp_[vlids] = conts[inverids].astype(np.float)\n",
        "        synth_front = tmp_.reshape(synth_front.shape,order='F')\n",
        "        synth_front = cv2.GaussianBlur(synth_front, (17,17), 30).astype(np.float)\n",
        "\n",
        "        rawfrontal = np.zeros((self.refU.shape[0],self.refU.shape[1], 3)) \n",
        "        for k in range(3):\n",
        "            z = img[:,:,k]\n",
        "            intervalues = ndimage.map_coordinates(img[:,:,k].T,proj2d_valid,order=3,mode='nearest')\n",
        "            tmp_  = rawfrontal[:,:,k].flatten()\n",
        "            tmp_[vlids] = intervalues\n",
        "            rawfrontal[:,:,k] = tmp_.reshape(self.refU.shape[0:2],order='F')\n",
        "\n",
        "        mline = synth_front.shape[1]//2\n",
        "        sumleft = np.sum(synth_front[:,0:mline])\n",
        "        sumright = np.sum(synth_front[:,mline:])\n",
        "        sum_diff = sumleft - sumright\n",
        "        print (sum_diff)\n",
        "        if np.abs(sum_diff) > ACC_CONST:\n",
        "            weights = np.zeros(sp_)\n",
        "            if sum_diff > ACC_CONST:\n",
        "                weights[:,mline:] = 1.\n",
        "            else:\n",
        "                weights[:,0:mline] = 1.\n",
        "            weights = cv2.GaussianBlur(weights, (33,33), 60.5).astype(np.float)\n",
        "            synth_front /= np.max(synth_front) \n",
        "            weight_take_from_org = 1 / np.exp(1 + synth_front)\n",
        "            weight_take_from_sym = 1 - weight_take_from_org\n",
        "            weight_take_from_org = weight_take_from_org * np.fliplr(weights)\n",
        "            weight_take_from_sym = weight_take_from_sym * np.fliplr(weights) \n",
        "            weights = np.tile(weights,(1,3)).reshape((weights.shape[0],weights.shape[1],3),order='F')\n",
        "            weight_take_from_org = np.tile(weight_take_from_org,(1,3)).reshape((weight_take_from_org.shape[0],weight_take_from_org.shape[1],3),order='F')\n",
        "            weight_take_from_sym = np.tile(weight_take_from_sym,(1,3)).reshape((weight_take_from_sym.shape[0],weight_take_from_sym.shape[1],3),order='F')\n",
        "            denominator = weights + weight_take_from_org + weight_take_from_sym\n",
        "            frontal_sym = (rawfrontal * weights + rawfrontal * weight_take_from_org + np.fliplr(rawfrontal) * weight_take_from_sym) / denominator\n",
        "        else:\n",
        "            frontal_sym = rawfrontal\n",
        "        return rawfrontal, frontal_sym\n",
        "\n",
        "\n",
        "if __name__ == \"__main__\":\n",
        "    ##to make sure you have dlib \n",
        "    PATH_face_model = '/content/shape_predictor_68_face_landmarks.dat'\n",
        "    md_face = dlib.shape_predictor(PATH_face_model)\n",
        "    face_det = dlib.get_frontal_face_detector()\n",
        "    fronter = frontalizer('/content/facefrontalisation/ref3d.pkl')\n",
        "    #________________model initialisation \n",
        "    #\n",
        "\n",
        "    # test your image \n",
        "    img_name = '/content/facefrontalisation/test2.jpg'#names[k]\n",
        "    img = plt.imread(img_name)\n",
        "    facedets = face_det(img,1)\n",
        "    for det in facedets:\n",
        "        shape = md_face(img,det)\n",
        "        p2d = np.asarray([(shape.part(n).x, shape.part(n).y,) for n in range(shape.num_parts)], np.float32)\n",
        "    st = time.time()\n",
        "    rawfront, symfront = fronter.frontalization(img,det,p2d)\n",
        "    print (\"eplased time:\", time.time() - st) \n",
        "    plt.imshow(np.round(symfront).astype(np.uint8))\n",
        "    plt.show()\n",
        "    "
      ],
      "metadata": {
        "colab": {
          "base_uri": "https://localhost:8080/",
          "height": 802
        },
        "id": "8Ykt8ceimvps",
        "outputId": "0a204f6e-a506-459a-e182-fafc1ab6d5ff"
      },
      "execution_count": 17,
      "outputs": [
        {
          "output_type": "stream",
          "name": "stderr",
          "text": [
            "<ipython-input-17-eb083aec539e>:50: DeprecationWarning: `np.float` is a deprecated alias for the builtin `float`. To silence this warning, use `float` by itself. Doing this will not modify any behavior and is safe. If you specifically wanted the numpy scalar type, use `np.float64` here.\n",
            "Deprecated in NumPy 1.20; for more details and guidance: https://numpy.org/devdocs/release/1.20.0-notes.html#deprecations\n",
            "  p3_ = np.reshape(self.p3d,(-1,3,1)).astype(np.float)\n",
            "<ipython-input-17-eb083aec539e>:51: DeprecationWarning: `np.float` is a deprecated alias for the builtin `float`. To silence this warning, use `float` by itself. Doing this will not modify any behavior and is safe. If you specifically wanted the numpy scalar type, use `np.float64` here.\n",
            "Deprecated in NumPy 1.20; for more details and guidance: https://numpy.org/devdocs/release/1.20.0-notes.html#deprecations\n",
            "  p2_ = np.reshape(p2d,(-1,2,1)).astype(np.float)\n",
            "<ipython-input-17-eb083aec539e>:96: DeprecationWarning: `np.float` is a deprecated alias for the builtin `float`. To silence this warning, use `float` by itself. Doing this will not modify any behavior and is safe. If you specifically wanted the numpy scalar type, use `np.float64` here.\n",
            "Deprecated in NumPy 1.20; for more details and guidance: https://numpy.org/devdocs/release/1.20.0-notes.html#deprecations\n",
            "  synth_front = np.zeros(sp_,np.float)\n",
            "<ipython-input-17-eb083aec539e>:100: DeprecationWarning: `np.float` is a deprecated alias for the builtin `float`. To silence this warning, use `float` by itself. Doing this will not modify any behavior and is safe. If you specifically wanted the numpy scalar type, use `np.float64` here.\n",
            "Deprecated in NumPy 1.20; for more details and guidance: https://numpy.org/devdocs/release/1.20.0-notes.html#deprecations\n",
            "  tmp_[vlids] = conts[inverids].astype(np.float)\n",
            "<ipython-input-17-eb083aec539e>:102: DeprecationWarning: `np.float` is a deprecated alias for the builtin `float`. To silence this warning, use `float` by itself. Doing this will not modify any behavior and is safe. If you specifically wanted the numpy scalar type, use `np.float64` here.\n",
            "Deprecated in NumPy 1.20; for more details and guidance: https://numpy.org/devdocs/release/1.20.0-notes.html#deprecations\n",
            "  synth_front = cv2.GaussianBlur(synth_front, (17,17), 30).astype(np.float)\n",
            "<ipython-input-17-eb083aec539e>:123: DeprecationWarning: `np.float` is a deprecated alias for the builtin `float`. To silence this warning, use `float` by itself. Doing this will not modify any behavior and is safe. If you specifically wanted the numpy scalar type, use `np.float64` here.\n",
            "Deprecated in NumPy 1.20; for more details and guidance: https://numpy.org/devdocs/release/1.20.0-notes.html#deprecations\n",
            "  weights = cv2.GaussianBlur(weights, (33,33), 60.5).astype(np.float)\n"
          ]
        },
        {
          "output_type": "stream",
          "name": "stdout",
          "text": [
            "-5290.090292918398\n",
            "eplased time: 0.059366464614868164\n"
          ]
        },
        {
          "output_type": "display_data",
          "data": {
            "text/plain": [
              "<Figure size 640x480 with 1 Axes>"
            ],
            "image/png": "[encoded data removed]"
          },
          "metadata": {}
        }
      ]
    }
  ]
}